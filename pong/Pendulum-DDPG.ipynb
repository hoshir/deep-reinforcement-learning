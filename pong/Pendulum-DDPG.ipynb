{
 "cells": [
  {
   "cell_type": "markdown",
   "metadata": {},
   "source": [
    "# Welcome!\n",
    "Below, we will learn to implement and train a policy to play atari-pong, using only the pixels as input. We will use convolutional neural nets, multiprocessing, and pytorch to implement and train our policy. Let's get started!\n",
    "\n",
    "(I strongly recommend you to try this notebook on the Udacity workspace first before running it locally on your desktop/laptop, as performance might suffer in different environments)"
   ]
  },
  {
   "cell_type": "code",
   "execution_count": 50,
   "metadata": {
    "pycharm": {
     "name": "#%%\n"
    }
   },
   "outputs": [],
   "source": [
    "import math\n",
    "import random\n",
    "import time\n",
    "from collections import deque,namedtuple\n",
    "\n",
    "import gym\n",
    "import matplotlib.pyplot as plt\n",
    "import numpy as np\n",
    "import progressbar as pb\n",
    "import torch\n",
    "import torch.nn as nn\n",
    "import torch.optim as optim\n",
    "from torch.distributions import Categorical\n",
    "from apex import amp\n",
    "\n",
    "%matplotlib inline"
   ]
  },
  {
   "cell_type": "code",
   "execution_count": 51,
   "metadata": {},
   "outputs": [
    {
     "name": "stdout",
     "output_type": "stream",
     "text": [
      "using device:  cuda:0\n"
     ]
    }
   ],
   "source": [
    "# check which device is being used.\n",
    "device = torch.device(\"cuda:0\" if torch.cuda.is_available() else \"cpu\")\n",
    "print(\"using device: \",device)"
   ]
  },
  {
   "cell_type": "code",
   "execution_count": 3,
   "metadata": {},
   "outputs": [
    {
     "name": "stdout",
     "output_type": "stream",
     "text": [
      "Box(-2.0, 2.0, (1,), float32)\n",
      "Box(-8.0, 8.0, (3,), float32)\n"
     ]
    }
   ],
   "source": [
    "# env = gym.make('CartPole-v0')\n",
    "env = gym.make('Pendulum-v0')\n",
    "env.seed(2)\n",
    "action_size = 1\n",
    "state_size = 3\n",
    "print(env.action_space)\n",
    "print(env.observation_space)\n"
   ]
  },
  {
   "cell_type": "markdown",
   "metadata": {},
   "source": [
    "# Preprocessing\n",
    "To speed up training, we can simplify the input by cropping the images and use every other pixel"
   ]
  },
  {
   "cell_type": "code",
   "execution_count": 4,
   "metadata": {},
   "outputs": [],
   "source": [
    "state = env.reset()\n",
    "while True:\n",
    "    env.render()\n",
    "    action = np.array([np.random.rand(1,) * 4 - 2])\n",
    "    state, reward, done, _ = env.step(action)\n",
    "    if done:\n",
    "        break\n",
    "time.sleep(2)\n",
    "\n",
    "env.close()"
   ]
  },
  {
   "cell_type": "markdown",
   "metadata": {},
   "source": [
    "# Replay Buffer"
   ]
  },
  {
   "cell_type": "code",
   "execution_count": 52,
   "metadata": {},
   "outputs": [],
   "source": [
    "class ReplayBuffer:\n",
    "    def __init__(self, buffer_size, batch_size, seed=123):\n",
    "        self.memory = deque(maxlen=buffer_size)\n",
    "        self.batch_size = batch_size\n",
    "        self.experience = namedtuple(\"Experience\", \"state, action, reward, next_state, done\")\n",
    "        np.random.seed(seed)\n",
    "\n",
    "    def add(self, state, action, reward, next_state, done):\n",
    "        e =self.experience(state, action, reward, next_state, done)\n",
    "        self.memory.append(e)\n",
    "        \n",
    "    def sample(self):\n",
    "        n = min(self.batch_size, len(self.memory))\n",
    "        experiences = random.sample(self.memory, k=n)\n",
    "        \n",
    "        states = torch.from_numpy(np.array([e.state for e in experiences])).float().to(device)\n",
    "        actions = torch.from_numpy(np.vstack([e.action for e in experiences])).float().to(device)\n",
    "        rewards = torch.from_numpy(np.vstack([e.reward for e in experiences])).float().to(device)\n",
    "        next_states = torch.from_numpy(np.vstack([e.next_state for e in experiences])).float().to(device)\n",
    "        dones = torch.from_numpy(np.vstack([e.done for e in experiences])).float().to(device)\n",
    "        \n",
    "        return states, actions, rewards, next_states, dones\n",
    "\n",
    "    def __len__(self):\n",
    "        return len(self.memory)"
   ]
  },
  {
   "cell_type": "code",
   "execution_count": 53,
   "metadata": {
    "scrolled": true
   },
   "outputs": [
    {
     "data": {
      "text/plain": [
       "(tensor([[2., 3., 4.],\n",
       "         [5., 6., 7.],\n",
       "         [1., 2., 3.]], device='cuda:0'),\n",
       " tensor([[0.],\n",
       "         [0.],\n",
       "         [1.]], device='cuda:0'),\n",
       " tensor([[1.],\n",
       "         [0.],\n",
       "         [1.]], device='cuda:0'),\n",
       " tensor([[5., 6., 7.],\n",
       "         [7., 8., 9.],\n",
       "         [3., 4., 5.]], device='cuda:0'),\n",
       " tensor([[0.],\n",
       "         [0.],\n",
       "         [0.]], device='cuda:0'))"
      ]
     },
     "execution_count": 53,
     "metadata": {},
     "output_type": "execute_result"
    }
   ],
   "source": [
    "buffer = ReplayBuffer(100, 20, 123)\n",
    "buffer.add((1, 2, 3), 1, 1, (3, 4, 5), False)\n",
    "buffer.add((2, 3, 4), 0, 1, (5, 6, 7), False)\n",
    "buffer.add((5, 6, 7), 0, 0, (7, 8, 9), False)\n",
    "a = buffer.sample()\n",
    "a\n"
   ]
  },
  {
   "cell_type": "markdown",
   "metadata": {},
   "source": [
    "# Policy\n",
    "\n"
   ]
  },
  {
   "cell_type": "code",
   "execution_count": 54,
   "metadata": {},
   "outputs": [],
   "source": [
    "class Actor(nn.Module):\n",
    "\n",
    "    def __init__(self, state_size, action_size):\n",
    "        super(Actor, self).__init__()\n",
    "        \n",
    "        num_hidden1 = 400\n",
    "        num_hidden2 = 300\n",
    "\n",
    "        self.fc1 = nn.Linear(state_size, num_hidden1)\n",
    "        self.fc2 = nn.Linear(num_hidden1, num_hidden2)\n",
    "        self.fc3 = nn.Linear(num_hidden2, action_size)\n",
    "\n",
    "    def forward(self, state):\n",
    "        x = F.relu(self.fc1(state))\n",
    "        x = F.relu(self.fc2(x))\n",
    "        return torch.tanh(self.fc3(x))\n"
   ]
  },
  {
   "cell_type": "code",
   "execution_count": 7,
   "metadata": {},
   "outputs": [],
   "source": [
    "class Critic(nn.Module):\n",
    "\n",
    "    def __init__(self, state_size, action_size):\n",
    "        super(Critic, self).__init__()\n",
    "        \n",
    "        num_hidden1 = 400\n",
    "        num_hidden2 = 300\n",
    "\n",
    "        self.fc1 = nn.Linear(state_size, num_hidden1)\n",
    "        self.fc2 = nn.Linear(num_hidden1 + action_size, num_hidden2)\n",
    "        self.fc3 = nn.Linear(num_hidden2, 1)\n",
    "\n",
    "    def forward(self, state, action):\n",
    "        xs = F.relu(self.fc1(state))\n",
    "        x = torch.cat((xs, action), dim=1)\n",
    "        x = F.relu(self.fc2(x))\n",
    "        return self.fc3(x) \n"
   ]
  },
  {
   "cell_type": "code",
   "execution_count": 8,
   "metadata": {},
   "outputs": [
    {
     "name": "stdout",
     "output_type": "stream",
     "text": [
      "tensor([[0.9886, 0.9875, 0.9850],\n",
      "        [0.4579, 0.0218, 0.2663],\n",
      "        [0.3686, 0.9066, 0.8005],\n",
      "        [0.2967, 0.4766, 0.3484]])\n",
      "tensor([[0.3677],\n",
      "        [0.2084],\n",
      "        [0.7682],\n",
      "        [0.2398]])\n"
     ]
    },
    {
     "data": {
      "text/plain": [
       "tensor([[0.9886, 0.9875, 0.9850, 0.3677],\n",
       "        [0.4579, 0.0218, 0.2663, 0.2084],\n",
       "        [0.3686, 0.9066, 0.8005, 0.7682],\n",
       "        [0.2967, 0.4766, 0.3484, 0.2398]])"
      ]
     },
     "execution_count": 8,
     "metadata": {},
     "output_type": "execute_result"
    }
   ],
   "source": [
    "state = torch.rand(4, 3)\n",
    "action = torch.rand(4, 1)\n",
    "print(state)\n",
    "print(action)\n",
    "torch.cat((state, action), dim=1)"
   ]
  },
  {
   "cell_type": "markdown",
   "metadata": {},
   "source": [
    "# Function Definitions\n",
    "\n"
   ]
  },
  {
   "cell_type": "markdown",
   "metadata": {},
   "source": [
    "# Training\n",
    "We are now ready to train our policy!\n",
    "WARNING: make sure to turn on GPU, which also enables multicore processing. It may take up to 45 minutes even with GPU enabled, otherwise it will take much longer!"
   ]
  },
  {
   "cell_type": "code",
   "execution_count": 55,
   "metadata": {},
   "outputs": [],
   "source": [
    "class DDPGAgentParams():\n",
    "    def __init__(\n",
    "        self, \n",
    "        buffer_size=int(1e5), \n",
    "        batch_size=128, \n",
    "        actor_lr = 1e-4, \n",
    "        critic_lr = 1e-3, \n",
    "        gamma = .99, \n",
    "        tau = 1e-3):\n",
    "        \n",
    "        self.buffer_size = buffer_size\n",
    "        self.batch_size = batch_size\n",
    "        self.actor_lr = actor_lr\n",
    "        self.critic_lr = critic_lr\n",
    "        self.gamma = gamma\n",
    "        self.tau = tau\n",
    "\n",
    "\n",
    "\n",
    "class DDPGAgent():\n",
    "    def __init__(self, state_size, action_size, params, device=\"cpu\"):\n",
    "        self.params = params\n",
    "        self.device = device\n",
    "        \n",
    "        self.actor_local = Actor(state_size, action_size).to(device)\n",
    "        self.actor_target = Actor(state_size, action_size).to(device)\n",
    "        self.actor_optimizer = optim.Adam(self.actor_local.parameters(), lr=params.actor_lr)\n",
    "\n",
    "        self.critic_local = Critic(state_size, action_size).to(device)\n",
    "        self.critic_target = Critic(state_size, action_size).to(device)\n",
    "        self.critic_loss = nn.MSELoss()\n",
    "        self.critic_optimizer = optim.Adam(self.critic_local.parameters(), lr=params.critic_lr)\n",
    "        \n",
    "        self.memory = ReplayBuffer(params.buffer_size, params.batch_size)\n",
    "    \n",
    "    def step(self, state, action, reward, next_state, done):\n",
    "        self.memory.add(state, action, reward, next_state, done)\n",
    "\n",
    "        if len(self.memory) > self.params.batch_size:\n",
    "            experiences = self.memory.sample()\n",
    "            self.learn(experiences)\n",
    "            \n",
    "\n",
    "    def to_float_tensor(self, ndarray):\n",
    "        return torch.from_numpy(ndarray).float().to(self.device)\n",
    "    \n",
    "    def to_numpy(self, tensor):\n",
    "        return tensor.detach().cpu().numpy()\n",
    "    \n",
    "    def act(self, state):\n",
    "        state_tensor = self.to_float_tensor(state)\n",
    "        self.actor_local.eval()\n",
    "        with torch.no_grad():\n",
    "            action = self.to_numpy(self.actor_local(state_tensor))\n",
    "        \n",
    "        self.actor_local.train()\n",
    "        action = np.clip(action, -1, 1)\n",
    "        return action\n",
    "        \n",
    "    \n",
    "    def learn(self, experiences):\n",
    "        states_tensor, actions_tensor, rewards_tensor, next_states_tensor, dones_tensor = experiences\n",
    "        \n",
    "        # Q Target (with target network)\n",
    "        actions_next_tensor = self.actor_target(next_states_tensor)\n",
    "        Q_targets_next = self.critic_target(next_states_tensor, actions_next_tensor)\n",
    "        Q_targets = rewards_tensor + (gamma * Q_targets_next * (1 - dones_tensor))\n",
    "\n",
    "        # Q Expected (with local network)\n",
    "        Q_expected = self.critic_local(states_tensor, actions_tensor)\n",
    "        critic_loss = self.critic_loss(Q_expected, Q_targets)\n",
    "        \n",
    "        # Optimize Critic\n",
    "        self.critic_optimizer.zero_grad()\n",
    "        critic_loss.backward()\n",
    "        self.critic_optimizer.step()\n",
    "\n",
    "        # Actor loss\n",
    "        actions_tensor = self.actor_local(states_tensor)\n",
    "        actor_loss = -self.critic_local(states_tensor, actions_tensor).mean()\n",
    "\n",
    "        # Optimize Actor\n",
    "        self.actor_optimizer.zero_grad()\n",
    "        actor_loss.backward()\n",
    "        self.actor_optimizer.step()\n",
    "\n",
    "        # Soft update\n",
    "        self.soft_update(self.critic_local, self.critic_target, self.params.tau)\n",
    "        self.soft_update(self.actor_local, self.actor_target, self.params.tau)             \n",
    "            \n",
    "    def soft_update(self, local_model, target_model, tau):\n",
    "        for target_param, local_param in zip(target_model.parameters(), local_model.parameters()):\n",
    "            target_param.data.copy_(tau*local_param.data + (1.0-tau)*target_param.data)\n"
   ]
  },
  {
   "cell_type": "code",
   "execution_count": 56,
   "metadata": {},
   "outputs": [
    {
     "name": "stdout",
     "output_type": "stream",
     "text": [
      "Episode 100\tAverage Score: -1171.71\n",
      "Episode 200\tAverage Score: -509.781\n",
      "Episode 300\tAverage Score: -265.60\n"
     ]
    },
    {
     "data": {
      "image/png": "[encoded data removed]",
      "text/plain": [
       "<Figure size 432x288 with 1 Axes>"
      ]
     },
     "metadata": {
      "needs_background": "light"
     },
     "output_type": "display_data"
    }
   ],
   "source": [
    "params = DDPGAgentParams()\n",
    "agent = DDPGAgent(3, 1, params, device=device)\n",
    "\n",
    "\n",
    "episode = 300\n",
    "\n",
    "scores_deque = deque(maxlen=100)\n",
    "scores = []\n",
    "for i in range(1, episode+1):\n",
    "    state = env.reset()\n",
    "    score = 0\n",
    "    while True:\n",
    "        action = agent.act(state)\n",
    "        next_state, reward, done, _ = env.step(action)\n",
    "        agent.step(state, action, reward, next_state, done)\n",
    "        state = next_state\n",
    "        score += reward\n",
    "        if done:\n",
    "            break \n",
    "            \n",
    "    scores_deque.append(score)\n",
    "    scores.append(score)\n",
    "    print('\\rEpisode {}\\tAverage Score: {:.2f}'.format(i, np.mean(scores_deque)), end=\"\")\n",
    "    torch.save(agent.actor_local.state_dict(), 'checkpoint_actor.pth')\n",
    "    torch.save(agent.critic_local.state_dict(), 'checkpoint_critic.pth')\n",
    "    if i % 100 == 0:\n",
    "        print('\\rEpisode {}\\tAverage Score: {:.2f}'.format(i, np.mean(scores_deque)))\n",
    "\n",
    "\n",
    "fig = plt.figure()\n",
    "ax = fig.add_subplot(111)\n",
    "plt.plot(np.arange(1, len(scores)+1), scores)\n",
    "plt.ylabel('Score')\n",
    "plt.xlabel('Episode #')\n",
    "plt.show()"
   ]
  },
  {
   "cell_type": "code",
   "execution_count": 58,
   "metadata": {},
   "outputs": [
    {
     "name": "stdout",
     "output_type": "stream",
     "text": [
      "199 [0.29963252]]"
     ]
    }
   ],
   "source": [
    "# Print best agent\n",
    "state = env.reset()\n",
    "for t in range(200):\n",
    "    action = agent.act(state)\n",
    "\n",
    "    env.render()\n",
    "    print(\"\\r{} {}\".format(t, action), end=\"\")\n",
    "    state, reward, done, _ = env.step(action)\n",
    "    if done:\n",
    "        break \n",
    "\n",
    "env.close()"
   ]
  },
  {
   "cell_type": "markdown",
   "metadata": {},
   "source": [
    "# Function version"
   ]
  },
  {
   "cell_type": "code",
   "execution_count": 9,
   "metadata": {},
   "outputs": [],
   "source": [
    "buffer_size = int(1e5)\n",
    "batch_size = 128\n",
    "# batch_size = 2\n",
    "\n",
    "gamma = .99\n",
    "actor_lr = 1e-4\n",
    "critic_lr = 1e-3\n",
    "tau = 1e-3\n"
   ]
  },
  {
   "cell_type": "code",
   "execution_count": 11,
   "metadata": {},
   "outputs": [],
   "source": [
    "def soft_update(local_model, target_model, tau):\n",
    "    \"\"\"Soft update model parameters.\n",
    "    θ_target = τ*θ_local + (1 - τ)*θ_target\n",
    "\n",
    "    Params\n",
    "    ======\n",
    "        local_model: PyTorch model (weights will be copied from)\n",
    "        target_model: PyTorch model (weights will be copied to)\n",
    "        tau (float): interpolation parameter \n",
    "    \"\"\"\n",
    "    for target_param, local_param in zip(target_model.parameters(), local_model.parameters()):\n",
    "        target_param.data.copy_(tau*local_param.data + (1.0-tau)*target_param.data)\n"
   ]
  },
  {
   "cell_type": "code",
   "execution_count": 32,
   "metadata": {
    "scrolled": false
   },
   "outputs": [
    {
     "ename": "NameError",
     "evalue": "name 'self' is not defined",
     "output_type": "error",
     "traceback": [
      "\u001b[0;31m---------------------------------------------------------------------------\u001b[0m",
      "\u001b[0;31mNameError\u001b[0m                                 Traceback (most recent call last)",
      "\u001b[0;32m<ipython-input-32-425b2971a01b>\u001b[0m in \u001b[0;36m<module>\u001b[0;34m\u001b[0m\n\u001b[1;32m     68\u001b[0m \u001b[0;34m\u001b[0m\u001b[0m\n\u001b[1;32m     69\u001b[0m             \u001b[0;31m# ----------------------- update target networks ----------------------- #\u001b[0m\u001b[0;34m\u001b[0m\u001b[0;34m\u001b[0m\u001b[0;34m\u001b[0m\u001b[0m\n\u001b[0;32m---> 70\u001b[0;31m             \u001b[0mself\u001b[0m\u001b[0;34m.\u001b[0m\u001b[0msoft_update\u001b[0m\u001b[0;34m(\u001b[0m\u001b[0mcritic_local\u001b[0m\u001b[0;34m,\u001b[0m \u001b[0mcritic_target\u001b[0m\u001b[0;34m,\u001b[0m \u001b[0mtau\u001b[0m\u001b[0;34m)\u001b[0m\u001b[0;34m\u001b[0m\u001b[0;34m\u001b[0m\u001b[0m\n\u001b[0m\u001b[1;32m     71\u001b[0m             \u001b[0mself\u001b[0m\u001b[0;34m.\u001b[0m\u001b[0msoft_update\u001b[0m\u001b[0;34m(\u001b[0m\u001b[0mactor_local\u001b[0m\u001b[0;34m,\u001b[0m \u001b[0mactor_target\u001b[0m\u001b[0;34m,\u001b[0m \u001b[0mtau\u001b[0m\u001b[0;34m)\u001b[0m\u001b[0;34m\u001b[0m\u001b[0;34m\u001b[0m\u001b[0m\n\u001b[1;32m     72\u001b[0m \u001b[0;34m\u001b[0m\u001b[0m\n",
      "\u001b[0;31mNameError\u001b[0m: name 'self' is not defined"
     ]
    }
   ],
   "source": [
    "\n",
    "actor_local = Actor(state_size, action_size).to(device)\n",
    "actor_target = Actor(state_size, action_size).to(device)\n",
    "actor_optimizer = optim.Adam(actor_local.parameters(), lr=actor_lr)\n",
    "\n",
    "critic_local = Critic(state_size, action_size).to(device)\n",
    "critic_target = Critic(state_size, action_size).to(device)\n",
    "critic_optimizer = optim.Adam(critic_local.parameters(), lr=critic_lr)\n",
    "\n",
    "episode = 1000\n",
    "memory = ReplayBuffer(buffer_size, batch_size)\n",
    "\n",
    "\n",
    "# keep track of progress\n",
    "scores_deque = deque(maxlen=100)\n",
    "scores = []\n",
    "\n",
    "policy_loss_fn = nn.MSELoss()\n",
    "critic_loss_fn = nn.MSELoss()\n",
    "\n",
    "state = env.reset()\n",
    "\n",
    "\n",
    "RIGHT = 0\n",
    "LEFT = 1\n",
    "for i in range(episode):\n",
    "    state = env.reset()\n",
    "    score = 0\n",
    "\n",
    "    while True:\n",
    "        # Get action\n",
    "        state_tensor = torch.from_numpy(state).float().to(device)\n",
    "        actor_local.eval()\n",
    "        with torch.no_grad():\n",
    "            action = actor_local(state_tensor).detach().cpu().numpy()\n",
    "        \n",
    "        actor_local.train()\n",
    "        action = np.clip(action, -1, 1)\n",
    "\n",
    "        # Step\n",
    "        next_state, reward, done, _ = env.step(action)\n",
    "        memory.add(state, action, reward, next_state, done)\n",
    "\n",
    "        if len(memory) > batch_size:\n",
    "            experiences = memory.sample()\n",
    "            states_tensor, actions_tensor, rewards_tensor, next_states_tensor, dones_tensor = experiences\n",
    "\n",
    "            # ---------------------------- update critic ---------------------------- #\n",
    "            # Get predicted next-state actions and Q values from target models\n",
    "            actions_next_tensor = actor_target(next_states_tensor)\n",
    "            Q_targets_next = critic_target(next_states_tensor, actions_next_tensor)\n",
    "            # Compute Q targets for current states (y_i)\n",
    "            Q_targets = rewards_tensor + (gamma * Q_targets_next * (1 - dones_tensor))\n",
    "            # Compute critic loss\n",
    "            Q_expected = critic_local(states_tensor, actions_tensor)\n",
    "            critic_loss = F.mse_loss(Q_expected, Q_targets)\n",
    "            critic_optimizer.zero_grad()\n",
    "            critic_loss.backward()\n",
    "            critic_optimizer.step()\n",
    "\n",
    "            # ---------------------------- update actor ---------------------------- #\n",
    "            # Compute actor loss\n",
    "            actions_pred_tensor = actor_local(states_tensor)\n",
    "            actor_loss = -critic_local(states_tensor, actions_pred_tensor).mean()\n",
    "            # Minimize the loss\n",
    "            actor_optimizer.zero_grad()\n",
    "            actor_loss.backward()\n",
    "            actor_optimizer.step()\n",
    "\n",
    "            # ----------------------- update target networks ----------------------- #\n",
    "            soft_update(critic_local, critic_target, tau)\n",
    "            soft_update(actor_local, actor_target, tau)             \n",
    "            \n",
    "        score += reward\n",
    "        state = next_state\n",
    "\n",
    "        if done:\n",
    "            break\n",
    "\n",
    "    scores_deque.append(score)\n",
    "    scores.append(score)\n",
    "\n",
    "    # display some progress every 20 iterations\n",
    "    if i % 20 == 0:\n",
    "        print(\"\\rEpisode: {0:d}, score: {1:f}\".format(i + 1, np.mean(scores_deque)), end=\"\")\n",
    "        torch.save(actor_local.state_dict(), 'checkpoint_actor.pth')\n",
    "        torch.save(critic_local.state_dict(), 'checkpoint_critic.pth')\n"
   ]
  },
  {
   "cell_type": "code",
   "execution_count": 57,
   "metadata": {},
   "outputs": [
    {
     "data": {
      "image/png": "[encoded data removed]",
      "text/plain": [
       "<Figure size 432x288 with 1 Axes>"
      ]
     },
     "metadata": {
      "needs_background": "light"
     },
     "output_type": "display_data"
    }
   ],
   "source": [
    "plt.plot(np.arange(1, len(scores)+1), scores)\n",
    "plt.ylabel('Score')\n",
    "plt.xlabel('Episode #')\n",
    "plt.show()"
   ]
  },
  {
   "cell_type": "code",
   "execution_count": 27,
   "metadata": {},
   "outputs": [
    {
     "data": {
      "text/plain": [
       "<All keys matched successfully>"
      ]
     },
     "execution_count": 27,
     "metadata": {},
     "output_type": "execute_result"
    }
   ],
   "source": [
    "actor_local.load_state_dict(torch.load('checkpoint_actor1.pth'))\n",
    "critic_local.load_state_dict(torch.load('checkpoint_critic1.pth'))\n"
   ]
  },
  {
   "cell_type": "code",
   "execution_count": 39,
   "metadata": {},
   "outputs": [],
   "source": [
    "# Print best agent\n",
    "state = env.reset()\n",
    "for t in range(200):\n",
    "    state_tensor = torch.from_numpy(state).float().to(device)\n",
    "    actor_local.eval()\n",
    "    with torch.no_grad():\n",
    "        action = actor_local(state_tensor).detach().cpu().numpy()\n",
    "    action = np.clip(action, -1, 1)\n",
    "\n",
    "    env.render()\n",
    "    state, reward, done, _ = env.step(action)\n",
    "    if done:\n",
    "        break \n",
    "\n",
    "env.close()"
   ]
  },
  {
   "cell_type": "code",
   "execution_count": null,
   "metadata": {},
   "outputs": [],
   "source": []
  }
 ],
 "metadata": {
  "kernelspec": {
   "display_name": "Python 3",
   "language": "python",
   "name": "python3"
  },
  "language_info": {
   "codemirror_mode": {
    "name": "ipython",
    "version": 3
   },
   "file_extension": ".py",
   "mimetype": "text/x-python",
   "name": "python",
   "nbconvert_exporter": "python",
   "pygments_lexer": "ipython3",
   "version": "3.8.10"
  }
 },
 "nbformat": 4,
 "nbformat_minor": 2
}
