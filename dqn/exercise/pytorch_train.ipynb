{
 "cells": [
  {
   "cell_type": "markdown",
   "metadata": {},
   "source": [
    "# Deep Q-Network (DQN)\n",
    "---\n",
    "In this notebook, you will implement a DQN agent with OpenAI Gym's LunarLander-v2 environment.\n",
    "\n",
    "### 1. Import the Necessary Packages"
   ]
  },
  {
   "cell_type": "code",
   "execution_count": 209,
   "metadata": {},
   "outputs": [],
   "source": [
    "import math\n",
    "import random\n",
    "import time\n",
    "from collections import namedtuple, deque\n",
    "\n",
    "import matplotlib.pyplot as plt\n",
    "%matplotlib inline\n",
    "\n",
    "import numpy as np\n",
    "\n",
    "import torch\n",
    "import torch.nn as nn\n",
    "import torch.nn.functional as F\n",
    "import torch.optim as optim\n",
    "import torchviz\n"
   ]
  },
  {
   "cell_type": "code",
   "execution_count": 210,
   "metadata": {},
   "outputs": [
    {
     "name": "stdout",
     "output_type": "stream",
     "text": [
      "Using device: cuda\n"
     ]
    }
   ],
   "source": [
    "device = torch.device('cuda' if torch.cuda.is_available() else 'cpu')\n",
    "print('Using device:', device)\n"
   ]
  },
  {
   "cell_type": "code",
   "execution_count": 211,
   "metadata": {},
   "outputs": [
    {
     "name": "stdout",
     "output_type": "stream",
     "text": [
      "(100, 1) (100, 1)\n"
     ]
    },
    {
     "data": {
      "text/plain": [
       "<matplotlib.collections.PathCollection at 0x7f85b726b3d0>"
      ]
     },
     "execution_count": 211,
     "metadata": {},
     "output_type": "execute_result"
    },
    {
     "data": {
      "image/png": "[encoded data removed]",
      "text/plain": [
       "<Figure size 432x288 with 1 Axes>"
      ]
     },
     "metadata": {
      "needs_background": "light"
     },
     "output_type": "display_data"
    }
   ],
   "source": [
    "torch.manual_seed(42)\n",
    "\n",
    "N = 100\n",
    "x = np.random.rand(100, 1)\n",
    "y = 1 + 2 * x + .1 * np.random.randn(N, 1)\n",
    "\n",
    "print(x.shape, y.shape)\n",
    "plt.scatter(x, y)"
   ]
  },
  {
   "cell_type": "code",
   "execution_count": 91,
   "metadata": {},
   "outputs": [],
   "source": [
    "train_index = math.floor(N * .8)\n",
    "x_train, y_train = x[:train_index], y[:train_index]\n",
    "x_validation, y_validation = x[train_index:], y[train_index:]\n",
    "\n",
    "# Create tensor from numpy\n",
    "x_train_tensor = torch.from_numpy(x_train).float().to(device)\n",
    "y_train_tensor = torch.from_numpy(y_train).float().to(device)\n",
    "\n",
    "x_validation_tensor = torch.from_numpy(x_validation).float().to(device)\n",
    "y_validation_tensor = torch.from_numpy(y_validation).float().to(device)"
   ]
  },
  {
   "cell_type": "code",
   "execution_count": 212,
   "metadata": {},
   "outputs": [],
   "source": [
    "from torch.utils.data import Dataset, DataLoader, TensorDataset\n",
    "from torch.utils.data.dataset import random_split\n",
    "\n",
    "x_tensor = torch.from_numpy(x).float()\n",
    "y_tensor = torch.from_numpy(y).float()\n",
    "\n",
    "dataset = TensorDataset(x_tensor, y_tensor)\n",
    "\n",
    "train_dataset, val_dataset = random_split(dataset, [80, 20])\n",
    "train_loader = DataLoader(dataset=train_dataset, batch_size=16)\n",
    "val_loader = DataLoader(dataset=val_dataset, batch_size=20)"
   ]
  },
  {
   "cell_type": "code",
   "execution_count": 213,
   "metadata": {},
   "outputs": [],
   "source": [
    "class CustomDataset(Dataset):\n",
    "    def __init__(self, x_tensor, y_tensor):\n",
    "        self.x = x_tensor\n",
    "        self.y = y_tensor\n",
    "    \n",
    "    def __getitem__(self, index):\n",
    "        return (self.x[index], self.y[index])\n",
    "    \n",
    "    def __len__(self):\n",
    "        return len(self.x)\n",
    "\n",
    "x_train_tensor = torch.from_numpy(x_train).float()\n",
    "y_train_tensor = torch.from_numpy(y_train).float()\n",
    "\n",
    "train_data = CustomDataset(x_train_tensor, y_train_tensor)\n",
    "train_data = TensorDataset(x_train_tensor, y_train_tensor)\n"
   ]
  },
  {
   "cell_type": "code",
   "execution_count": 214,
   "metadata": {},
   "outputs": [
    {
     "name": "stdout",
     "output_type": "stream",
     "text": [
      "0.194019, 0.139138\n"
     ]
    },
    {
     "data": {
      "image/svg+xml": [
       "<?xml version=\"1.0\" encoding=\"UTF-8\" standalone=\"no\"?>\n",
       "<!DOCTYPE svg PUBLIC \"-//W3C//DTD SVG 1.1//EN\"\n",
       " \"http://www.w3.org/Graphics/SVG/1.1/DTD/svg11.dtd\">\n",
       "<!-- Generated by graphviz version 2.43.0 (0)\n",
       " -->\n",
       "<!-- Title: %3 Pages: 1 -->\n",
       "<svg width=\"222pt\" height=\"283pt\"\n",
       " viewBox=\"0.00 0.00 222.00 283.00\" xmlns=\"http://www.w3.org/2000/svg\" xmlns:xlink=\"http://www.w3.org/1999/xlink\">\n",
       "<g id=\"graph0\" class=\"graph\" transform=\"scale(1 1) rotate(0) translate(4 279)\">\n",
       "<title>%3</title>\n",
       "<polygon fill=\"white\" stroke=\"transparent\" points=\"-4,4 -4,-279 218,-279 218,4 -4,4\"/>\n",
       "<!-- 140212279802944 -->\n",
       "<g id=\"node1\" class=\"node\">\n",
       "<title>140212279802944</title>\n",
       "<polygon fill=\"#caff70\" stroke=\"black\" points=\"139,-31 74,-31 74,0 139,0 139,-31\"/>\n",
       "<text text-anchor=\"middle\" x=\"106.5\" y=\"-7\" font-family=\"monospace\" font-size=\"10.00\"> (80, 1)</text>\n",
       "</g>\n",
       "<!-- 140212279818032 -->\n",
       "<g id=\"node2\" class=\"node\">\n",
       "<title>140212279818032</title>\n",
       "<polygon fill=\"lightgrey\" stroke=\"black\" points=\"151,-86 62,-86 62,-67 151,-67 151,-86\"/>\n",
       "<text text-anchor=\"middle\" x=\"106.5\" y=\"-74\" font-family=\"monospace\" font-size=\"10.00\">AddBackward0</text>\n",
       "</g>\n",
       "<!-- 140212279818032&#45;&gt;140212279802944 -->\n",
       "<g id=\"edge6\" class=\"edge\">\n",
       "<title>140212279818032&#45;&gt;140212279802944</title>\n",
       "<path fill=\"none\" stroke=\"black\" d=\"M106.5,-66.79C106.5,-60.07 106.5,-50.4 106.5,-41.34\"/>\n",
       "<polygon fill=\"black\" stroke=\"black\" points=\"110,-41.19 106.5,-31.19 103,-41.19 110,-41.19\"/>\n",
       "</g>\n",
       "<!-- 140212279818080 -->\n",
       "<g id=\"node3\" class=\"node\">\n",
       "<title>140212279818080</title>\n",
       "<polygon fill=\"lightgrey\" stroke=\"black\" points=\"95,-141 6,-141 6,-122 95,-122 95,-141\"/>\n",
       "<text text-anchor=\"middle\" x=\"50.5\" y=\"-129\" font-family=\"monospace\" font-size=\"10.00\">MulBackward0</text>\n",
       "</g>\n",
       "<!-- 140212279818080&#45;&gt;140212279818032 -->\n",
       "<g id=\"edge1\" class=\"edge\">\n",
       "<title>140212279818080&#45;&gt;140212279818032</title>\n",
       "<path fill=\"none\" stroke=\"black\" d=\"M59.5,-121.98C67.69,-114.23 80.01,-102.58 89.97,-93.14\"/>\n",
       "<polygon fill=\"black\" stroke=\"black\" points=\"92.48,-95.59 97.34,-86.17 87.67,-90.5 92.48,-95.59\"/>\n",
       "</g>\n",
       "<!-- 140212279818224 -->\n",
       "<g id=\"node4\" class=\"node\">\n",
       "<title>140212279818224</title>\n",
       "<polygon fill=\"lightgrey\" stroke=\"black\" points=\"101,-202 0,-202 0,-183 101,-183 101,-202\"/>\n",
       "<text text-anchor=\"middle\" x=\"50.5\" y=\"-190\" font-family=\"monospace\" font-size=\"10.00\">AccumulateGrad</text>\n",
       "</g>\n",
       "<!-- 140212279818224&#45;&gt;140212279818080 -->\n",
       "<g id=\"edge2\" class=\"edge\">\n",
       "<title>140212279818224&#45;&gt;140212279818080</title>\n",
       "<path fill=\"none\" stroke=\"black\" d=\"M50.5,-182.79C50.5,-174.6 50.5,-162.06 50.5,-151.55\"/>\n",
       "<polygon fill=\"black\" stroke=\"black\" points=\"54,-151.24 50.5,-141.24 47,-151.24 54,-151.24\"/>\n",
       "</g>\n",
       "<!-- 140206418248000 -->\n",
       "<g id=\"node5\" class=\"node\">\n",
       "<title>140206418248000</title>\n",
       "<polygon fill=\"lightblue\" stroke=\"black\" points=\"77.5,-275 23.5,-275 23.5,-244 77.5,-244 77.5,-275\"/>\n",
       "<text text-anchor=\"middle\" x=\"50.5\" y=\"-251\" font-family=\"monospace\" font-size=\"10.00\"> (1)</text>\n",
       "</g>\n",
       "<!-- 140206418248000&#45;&gt;140212279818224 -->\n",
       "<g id=\"edge3\" class=\"edge\">\n",
       "<title>140206418248000&#45;&gt;140212279818224</title>\n",
       "<path fill=\"none\" stroke=\"black\" d=\"M50.5,-243.75C50.5,-234.39 50.5,-222.19 50.5,-212.16\"/>\n",
       "<polygon fill=\"black\" stroke=\"black\" points=\"54,-212.02 50.5,-202.02 47,-212.02 54,-212.02\"/>\n",
       "</g>\n",
       "<!-- 140212279817936 -->\n",
       "<g id=\"node6\" class=\"node\">\n",
       "<title>140212279817936</title>\n",
       "<polygon fill=\"lightgrey\" stroke=\"black\" points=\"214,-141 113,-141 113,-122 214,-122 214,-141\"/>\n",
       "<text text-anchor=\"middle\" x=\"163.5\" y=\"-129\" font-family=\"monospace\" font-size=\"10.00\">AccumulateGrad</text>\n",
       "</g>\n",
       "<!-- 140212279817936&#45;&gt;140212279818032 -->\n",
       "<g id=\"edge4\" class=\"edge\">\n",
       "<title>140212279817936&#45;&gt;140212279818032</title>\n",
       "<path fill=\"none\" stroke=\"black\" d=\"M154.34,-121.98C146,-114.23 133.47,-102.58 123.32,-93.14\"/>\n",
       "<polygon fill=\"black\" stroke=\"black\" points=\"125.53,-90.42 115.82,-86.17 120.76,-95.54 125.53,-90.42\"/>\n",
       "</g>\n",
       "<!-- 140206417840448 -->\n",
       "<g id=\"node7\" class=\"node\">\n",
       "<title>140206417840448</title>\n",
       "<polygon fill=\"lightblue\" stroke=\"black\" points=\"190.5,-208 136.5,-208 136.5,-177 190.5,-177 190.5,-208\"/>\n",
       "<text text-anchor=\"middle\" x=\"163.5\" y=\"-184\" font-family=\"monospace\" font-size=\"10.00\"> (1)</text>\n",
       "</g>\n",
       "<!-- 140206417840448&#45;&gt;140212279817936 -->\n",
       "<g id=\"edge5\" class=\"edge\">\n",
       "<title>140206417840448&#45;&gt;140212279817936</title>\n",
       "<path fill=\"none\" stroke=\"black\" d=\"M163.5,-176.92C163.5,-169.22 163.5,-159.69 163.5,-151.43\"/>\n",
       "<polygon fill=\"black\" stroke=\"black\" points=\"167,-151.25 163.5,-141.25 160,-151.25 167,-151.25\"/>\n",
       "</g>\n",
       "</g>\n",
       "</svg>\n"
      ],
      "text/plain": [
       "<graphviz.dot.Digraph at 0x7f85b721b700>"
      ]
     },
     "execution_count": 214,
     "metadata": {},
     "output_type": "execute_result"
    }
   ],
   "source": [
    "x_train_tensor = torch.from_numpy(x_train).float().to(device)\n",
    "y_train_tensor = torch.from_numpy(y_train).float().to(device)\n",
    "\n",
    "x_validation_tensor = torch.from_numpy(x_validation).float().to(device)\n",
    "y_validation_tensor = torch.from_numpy(y_validation).float().to(device)\n",
    "\n",
    "\n",
    "a_tensor = torch.randn(1, requires_grad=True, dtype=torch.float, device=device)\n",
    "b_tensor = torch.randn(1, requires_grad=True, dtype=torch.float, device=device)\n",
    "print(\"%f, %f\" % (a_tensor, b_tensor))\n",
    "n_epoch = 500\n",
    "\n",
    "q = deque(maxlen=n_epoch)\n",
    "\n",
    "y_hat_tensor = b_tensor * x_train_tensor + a_tensor\n",
    "torchviz.make_dot(y_hat_tensor)"
   ]
  },
  {
   "cell_type": "code",
   "execution_count": 215,
   "metadata": {},
   "outputs": [],
   "source": [
    "def make_train_step(model, loss_fn, optimizer):\n",
    "    def train_step(x, y):\n",
    "        model.train()\n",
    "        yhat = model(x)\n",
    "        loss = loss_fn(y, yhat)\n",
    "        loss.backward()\n",
    "        \n",
    "        optimizer.step()\n",
    "        optimizer.zero_grad()\n",
    "        \n",
    "        return loss.item()\n",
    "    \n",
    "    return train_step"
   ]
  },
  {
   "cell_type": "code",
   "execution_count": 216,
   "metadata": {},
   "outputs": [],
   "source": [
    "class MyModel(nn.Module):\n",
    "    def __init__(self):\n",
    "        super().__init__()\n",
    "        self.a = nn.Parameter(torch.randn(1, requires_grad=True, dtype=torch.float))\n",
    "        self.b = nn.Parameter(torch.randn(1, requires_grad=True, dtype=torch.float))\n",
    "        \n",
    "    def forward(self, x):\n",
    "        return self.a + self.b * x\n",
    "    "
   ]
  },
  {
   "cell_type": "code",
   "execution_count": 217,
   "metadata": {},
   "outputs": [
    {
     "name": "stdout",
     "output_type": "stream",
     "text": [
      "i: 0, loss: 3.711195, a: 1.83, b: 2.38\n",
      "i: 50, loss: 0.009116, a: 1.01, b: 2.01\n",
      "i: 100, loss: 0.009113, a: 1.01, b: 2.02\n",
      "i: 150, loss: 0.009113, a: 1.01, b: 2.02\n",
      "i: 200, loss: 0.009113, a: 1.01, b: 2.02\n",
      "i: 250, loss: 0.009113, a: 1.01, b: 2.02\n",
      "i: 300, loss: 0.009113, a: 1.01, b: 2.02\n",
      "i: 350, loss: 0.009113, a: 1.01, b: 2.02\n",
      "i: 400, loss: 0.009113, a: 1.01, b: 2.02\n",
      "i: 450, loss: 0.009113, a: 1.01, b: 2.02\n"
     ]
    }
   ],
   "source": [
    "lr = .2\n",
    "n_epochs = 500\n",
    "show_every = 50\n",
    "data_loader = DataLoader(dataset=train_data, batch_size=16, shuffle=True)\n",
    "\n",
    "model = MyModel().to(device)\n",
    "optimizer = optim.SGD(model.parameters(), lr=lr)\n",
    "loss_fn = nn.MSELoss()\n",
    "\n",
    "train_step = make_train_step(model, loss_fn, optimizer)\n",
    "for i in range(n_epoch):\n",
    "    loss = train_step(x_train_tensor , y_train_tensor)\n",
    "    if i % show_every == 0:\n",
    "        print(\"i: %d, loss: %f, a: %.2f, b: %.2f\" % (i, loss, model.a, model.b))\n",
    "\n"
   ]
  },
  {
   "cell_type": "code",
   "execution_count": 127,
   "metadata": {},
   "outputs": [
    {
     "name": "stdout",
     "output_type": "stream",
     "text": [
      "i: 0, loss: 6.703701, a: 0.69, b: 0.32\n",
      "i: 50, loss: 0.013063, a: 1.80, b: 1.11\n",
      "i: 100, loss: 0.009391, a: 1.96, b: 1.04\n",
      "i: 150, loss: 0.009139, a: 2.00, b: 1.02\n",
      "i: 200, loss: 0.009120, a: 2.01, b: 1.01\n",
      "i: 250, loss: 0.009119, a: 2.02, b: 1.01\n",
      "i: 300, loss: 0.009119, a: 2.02, b: 1.01\n",
      "i: 350, loss: 0.009119, a: 2.02, b: 1.01\n",
      "i: 400, loss: 0.009119, a: 2.02, b: 1.01\n",
      "i: 450, loss: 0.009119, a: 2.02, b: 1.01\n"
     ]
    }
   ],
   "source": [
    "lr = .2\n",
    "n_epochs = 500\n",
    "show_every = 50\n",
    "\n",
    "model = nn.Sequential(nn.Linear(1, 1)).to(device)\n",
    "optimizer = optim.SGD(model.parameters(), lr=lr)\n",
    "loss_fn = nn.MSELoss()\n",
    "train_step = make_train_step(model, loss_fn, optimizer)\n",
    "x_train_tensor = x_train_tensor.to(device)\n",
    "y_train_tensor = y_train_tensor.to(device)\n",
    "\n",
    "for i in range(n_epoch):\n",
    "    loss = train_step(x_train_tensor , y_train_tensor)\n",
    "    if i % show_every == 0:\n",
    "        params = list(model.parameters())\n",
    "        print(\"i: %d, loss: %f, a: %.2f, b: %.2f\" % (i, loss, params[0].item(), params[1].item()))"
   ]
  },
  {
   "cell_type": "code",
   "execution_count": 208,
   "metadata": {},
   "outputs": [
    {
     "name": "stdout",
     "output_type": "stream",
     "text": [
      "i: 0, loss: 0.999875, a: 1.64, b: 1.14\n",
      "i: 10, loss: 1.071985, a: 2.04, b: 1.03\n",
      "i: 20, loss: 1.090605, a: 2.01, b: 0.96\n",
      "i: 30, loss: 0.889501, a: 2.10, b: 1.10\n",
      "i: 40, loss: 0.628967, a: 2.00, b: 1.10\n",
      "i: 50, loss: 0.707199, a: 2.06, b: 1.18\n",
      "i: 60, loss: 1.701509, a: 2.11, b: 1.09\n",
      "i: 70, loss: 1.736986, a: 2.01, b: 1.06\n",
      "i: 80, loss: 1.949464, a: 2.12, b: 1.08\n",
      "i: 90, loss: 0.524308, a: 2.04, b: 1.07\n",
      "OrderedDict([('0.weight', tensor([[2.0127]], device='cuda:0')), ('0.bias', tensor([0.9599], device='cuda:0'))])\n"
     ]
    },
    {
     "data": {
      "image/png": "[encoded data removed]",
      "text/plain": [
       "<Figure size 432x288 with 1 Axes>"
      ]
     },
     "metadata": {
      "needs_background": "light"
     },
     "output_type": "display_data"
    }
   ],
   "source": [
    "lr = .2\n",
    "n_epochs = 100\n",
    "show_every = 10\n",
    "\n",
    "losses = []\n",
    "val_losses = []\n",
    "\n",
    "model = nn.Sequential(nn.Linear(1, 1)).to(device)\n",
    "optimizer = optim.SGD(model.parameters(), lr=lr)\n",
    "loss_fn = nn.MSELoss()\n",
    "train_step = make_train_step(model, loss_fn, optimizer)\n",
    "\n",
    "for i in range(n_epochs):\n",
    "    for x_batch, y_batch in train_loader:\n",
    "        x_batch = x_batch.to(device)\n",
    "        y_batch = y_batch.to(device)\n",
    "        loss = train_step(x_batch, y_batch)\n",
    "        losses.append(loss)\n",
    "        \n",
    "    if i % show_every == 0:\n",
    "        params = list(model.parameters())\n",
    "        print(\"i: %d, loss: %f, a: %.2f, b: %.2f\" % (i, loss, params[0].item(), params[1].item()))\n",
    "        \n",
    "    with torch.no_grad():\n",
    "        for x_val, y_val in val_loader:\n",
    "            x_val = x_val.to(device)\n",
    "            y_val = y_val.to(device)\n",
    "            \n",
    "            model.eval()\n",
    "            \n",
    "            yhat = model(x_val)\n",
    "            val_loss = loss_fn(y_val, yhat)\n",
    "            val_losses.append(val_loss.item())\n",
    "        \n",
    "# plt.plot(losses)\n",
    "plt.plot(val_losses)\n",
    "print(model.state_dict())"
   ]
  },
  {
   "cell_type": "code",
   "execution_count": 69,
   "metadata": {},
   "outputs": [
    {
     "name": "stdout",
     "output_type": "stream",
     "text": [
      "\r",
      "loss: 0.008339, a: 1.02, b: 1.95"
     ]
    }
   ],
   "source": [
    "optimizer = optim.SGD([a_tensor, b_tensor], lr=lr)\n",
    "loss_fn = nn.MSELoss(reduction='mean')\n",
    "\n",
    "for i in range(n_epoch):\n",
    "    y_hat_tensor = b_tensor * x_train_tensor + a_tensor\n",
    "    error_tensor = y_train_tensor - y_hat_tensor\n",
    "    loss_tensor = loss_fn(y_train_tensor, y_hat_tensor)\n",
    "\n",
    "    loss_tensor.backward()\n",
    "    optimizer.step()\n",
    "    optimizer.zero_grad()\n",
    "    \n",
    "print(\"\\rloss: %f, a: %.2f, b: %.2f\" % (loss_tensor, a_tensor, b_tensor), end='')\n",
    "\n"
   ]
  },
  {
   "cell_type": "markdown",
   "metadata": {},
   "source": [
    "## Non-linear"
   ]
  },
  {
   "cell_type": "code",
   "execution_count": 295,
   "metadata": {},
   "outputs": [
    {
     "data": {
      "image/png": "[encoded data removed]",
      "text/plain": [
       "<Figure size 432x288 with 1 Axes>"
      ]
     },
     "metadata": {
      "needs_background": "light"
     },
     "output_type": "display_data"
    }
   ],
   "source": [
    "# dataset\n",
    "\n",
    "torch.manual_seed(42)\n",
    "\n",
    "step = 1000\n",
    "x = torch.linspace(-2 * np.pi, 2 * np.pi, step).unsqueeze(1)\n",
    "y = torch.cos(x) + .1 * torch.randn(step, 1)\n",
    "\n",
    "plt.scatter(x, y)\n",
    "\n",
    "x = x.float()\n",
    "y = y.float()\n",
    "\n",
    "dataset = TensorDataset(x, y)\n",
    "num_train = math.floor(step * .8)\n",
    "num_validation = step - num_train\n",
    "r = .2\n",
    "theta = torch.linspace(-1, 1, step).unsqueeze(1)\n",
    "x = torch.sin(r * theta) * theta / 2\n",
    "y = torch.cos(r * theta) * theta / 2\n",
    "num_train\n",
    "train_data, validation_data = random_split(dataset, [num_train, num_validation])\n",
    "train_loader = DataLoader(train_data, batch_size=16, shuffle=True)\n",
    "validation_loader = DataLoader(validation_data, batch_size=num_validation)\n"
   ]
  },
  {
   "cell_type": "code",
   "execution_count": 307,
   "metadata": {},
   "outputs": [
    {
     "name": "stdout",
     "output_type": "stream",
     "text": [
      "i: 0, train loss: 0.265230, validation loss: 0.237315\n",
      "i: 50, train loss: 0.011798, validation loss: 0.014242\n",
      "i: 100, train loss: 0.015475, validation loss: 0.025355\n",
      "i: 150, train loss: 0.019669, validation loss: 0.013035\n",
      "i: 200, train loss: 0.019838, validation loss: 0.018598\n",
      "i: 250, train loss: 0.016663, validation loss: 0.013330\n",
      "i: 300, train loss: 0.010785, validation loss: 0.011961\n",
      "i: 350, train loss: 0.015241, validation loss: 0.011654\n",
      "i: 400, train loss: 0.010632, validation loss: 0.011388\n",
      "i: 450, train loss: 0.011192, validation loss: 0.010840\n",
      "i: 500, train loss: 0.014010, validation loss: 0.013296\n",
      "i: 550, train loss: 0.015042, validation loss: 0.012254\n",
      "i: 600, train loss: 0.020244, validation loss: 0.013135\n",
      "i: 650, train loss: 0.020770, validation loss: 0.013139\n",
      "i: 700, train loss: 0.013434, validation loss: 0.011883\n",
      "i: 750, train loss: 0.010635, validation loss: 0.013300\n",
      "i: 800, train loss: 0.013058, validation loss: 0.012195\n",
      "i: 850, train loss: 0.016642, validation loss: 0.011333\n",
      "i: 900, train loss: 0.012132, validation loss: 0.015015\n",
      "i: 950, train loss: 0.021144, validation loss: 0.017456\n"
     ]
    }
   ],
   "source": [
    "num_hidden = 64\n",
    "lr = .01\n",
    "n_epochs = 1000\n",
    "show_every = 50\n",
    "\n",
    "model = nn.Sequential(\n",
    "    nn.Linear(1, num_hidden),\n",
    "    nn.ReLU(),\n",
    "    nn.Linear(num_hidden, num_hidden),\n",
    "    nn.ReLU(),\n",
    "    nn.Linear(num_hidden, 1),\n",
    ").to(device)\n",
    "\n",
    "optimizer = optim.Adam(model.parameters(), lr=lr)\n",
    "loss_fn = nn.MSELoss()\n",
    "train_step = make_train_step(model, loss_fn, optimizer)\n",
    "\n",
    "losses = []\n",
    "validation_losses = []\n",
    "for i in range(n_epochs):\n",
    "    for x, y in train_loader:\n",
    "        x = x.to(device)\n",
    "        y = y.to(device)\n",
    "        loss = train_step(x, y)\n",
    "        losses.append(loss)\n",
    "\n",
    "    with torch.no_grad():\n",
    "        for x, y in validation_loader:\n",
    "            x = x.to(device)\n",
    "            y = y.to(device)\n",
    "            \n",
    "            model.eval()\n",
    "            \n",
    "            y_hat = model(x)\n",
    "            validation_loss = loss_fn(y, y_hat)\n",
    "            validation_losses.append(validation_loss.item())\n",
    "\n",
    "    if i % show_every == 0:\n",
    "        print(\"i: %d, train loss: %f, validation loss: %f\" % (i, loss, validation_loss))\n",
    "\n"
   ]
  },
  {
   "cell_type": "code",
   "execution_count": 312,
   "metadata": {},
   "outputs": [
    {
     "data": {
      "text/plain": [
       "[<matplotlib.lines.Line2D at 0x7f85a60a4eb0>]"
      ]
     },
     "execution_count": 312,
     "metadata": {},
     "output_type": "execute_result"
    },
    {
     "data": {
      "image/png": "[encoded data removed]",
      "text/plain": [
       "<Figure size 432x288 with 1 Axes>"
      ]
     },
     "metadata": {
      "needs_background": "light"
     },
     "output_type": "display_data"
    }
   ],
   "source": [
    "step = 300\n",
    "xv = torch.linspace(-2 * np.pi, 2 * np.pi, step).unsqueeze(1).to(device)\n",
    "yv = model(xv)\n",
    "\n",
    "graph_validation_loader = DataLoader(validation_data, batch_size=100, shuffle=True)\n",
    "x, y = next(iter(graph_validation_loader))\n",
    "plt.scatter(x.cpu().detach().numpy(), y.cpu().detach().numpy())\n",
    "plt.plot(xv.cpu().detach().numpy(), yv.cpu().detach().numpy(), color=\"Orange\")"
   ]
  },
  {
   "cell_type": "code",
   "execution_count": null,
   "metadata": {},
   "outputs": [],
   "source": []
  }
 ],
 "metadata": {
  "kernelspec": {
   "display_name": "Python 3",
   "language": "python",
   "name": "python3"
  },
  "language_info": {
   "codemirror_mode": {
    "name": "ipython",
    "version": 3
   },
   "file_extension": ".py",
   "mimetype": "text/x-python",
   "name": "python",
   "nbconvert_exporter": "python",
   "pygments_lexer": "ipython3",
   "version": "3.8.5"
  }
 },
 "nbformat": 4,
 "nbformat_minor": 2
}
