{
 "cells": [
  {
   "cell_type": "markdown",
   "metadata": {},
   "source": [
    "# Continuous Control\n",
    "\n",
    "---\n",
    "\n",
    "This notebook includes an agent to solve the second project of the [Deep Reinforcement Learning Nanodegree](https://www.udacity.com/course/deep-reinforcement-learning-nanodegree--nd893) program.\n"
   ]
  },
  {
   "cell_type": "markdown",
   "metadata": {},
   "source": [
    "## Setup\n",
    "\n",
    "To run code, you need to set up an environment and import necessary packages."
   ]
  },
  {
   "cell_type": "code",
   "execution_count": 1,
   "metadata": {},
   "outputs": [],
   "source": [
    "import copy\n",
    "import math\n",
    "import random\n",
    "import time\n",
    "from collections import deque,namedtuple\n",
    "\n",
    "import gym\n",
    "import matplotlib.pyplot as plt\n",
    "import numpy as np\n",
    "import progressbar as pb\n",
    "import torch\n",
    "import torch.nn as nn\n",
    "import torch.nn.functional as F\n",
    "import torch.optim as optim\n",
    "from torch.distributions import Categorical\n",
    "from unityagents import UnityEnvironment\n",
    "\n",
    "%matplotlib inline"
   ]
  },
  {
   "cell_type": "markdown",
   "metadata": {},
   "source": [
    "### Load and observe Reacher environment\n",
    "Reacher environment is the target environment we want to solve in this note. Let's observe how the environment looks like"
   ]
  },
  {
   "cell_type": "code",
   "execution_count": 2,
   "metadata": {
    "scrolled": true
   },
   "outputs": [
    {
     "name": "stderr",
     "output_type": "stream",
     "text": [
      "INFO:unityagents:\n",
      "'Academy' started successfully!\n",
      "Unity Academy name: Academy\n",
      "        Number of Brains: 1\n",
      "        Number of External Brains : 1\n",
      "        Lesson number : 0\n",
      "        Reset Parameters :\n",
      "\t\tgoal_speed -> 1.0\n",
      "\t\tgoal_size -> 5.0\n",
      "Unity brain name: ReacherBrain\n",
      "        Number of Visual Observations (per agent): 0\n",
      "        Vector Observation space type: continuous\n",
      "        Vector Observation space size (per agent): 33\n",
      "        Number of stacked Vector Observation: 1\n",
      "        Vector Action space type: continuous\n",
      "        Vector Action space size (per agent): 4\n",
      "        Vector Action descriptions: , , , \n"
     ]
    },
    {
     "name": "stdout",
     "output_type": "stream",
     "text": [
      "Number of agents: 1\n",
      "Size of each action: 4\n",
      "There are 1 agents. Each observes a state with length: 33\n",
      "The state for the first agent looks like: [ 0.00000000e+00 -4.00000000e+00  0.00000000e+00  1.00000000e+00\n",
      " -0.00000000e+00 -0.00000000e+00 -4.37113883e-08  0.00000000e+00\n",
      "  0.00000000e+00  0.00000000e+00  0.00000000e+00  0.00000000e+00\n",
      "  0.00000000e+00  0.00000000e+00 -1.00000000e+01  0.00000000e+00\n",
      "  1.00000000e+00 -0.00000000e+00 -0.00000000e+00 -4.37113883e-08\n",
      "  0.00000000e+00  0.00000000e+00  0.00000000e+00  0.00000000e+00\n",
      "  0.00000000e+00  0.00000000e+00  5.75471878e+00 -1.00000000e+00\n",
      "  5.55726671e+00  0.00000000e+00  1.00000000e+00  0.00000000e+00\n",
      " -1.68164849e-01]\n"
     ]
    }
   ],
   "source": [
    "env = UnityEnvironment(file_name='./Reacher_Linux/Reacher.x86_64')\n",
    "\n",
    "brain_name = env.brain_names[0]\n",
    "brain = env.brains[brain_name]\n",
    "\n",
    "env_info = env.reset(train_mode=False)[brain_name]\n",
    "\n",
    "# number of agents\n",
    "num_agents = len(env_info.agents)\n",
    "print('Number of agents:', num_agents)\n",
    "\n",
    "# size of each action\n",
    "action_size = brain.vector_action_space_size\n",
    "print('Size of each action:', action_size)\n",
    "\n",
    "# examine the state space \n",
    "states = env_info.vector_observations\n",
    "state_size = states.shape[1]\n",
    "print('There are {} agents. Each observes a state with length: {}'.format(states.shape[0], state_size))\n",
    "print('The state for the first agent looks like:', states[0])\n"
   ]
  },
  {
   "cell_type": "markdown",
   "metadata": {},
   "source": [
    "### Check GPU availability\n",
    "Let's check which device is being used."
   ]
  },
  {
   "cell_type": "code",
   "execution_count": 3,
   "metadata": {},
   "outputs": [
    {
     "name": "stdout",
     "output_type": "stream",
     "text": [
      "using device:  cuda:0\n"
     ]
    }
   ],
   "source": [
    "device = torch.device(\"cuda:0\" if torch.cuda.is_available() else \"cpu\")\n",
    "print(\"using device: \",device)"
   ]
  },
  {
   "cell_type": "markdown",
   "metadata": {},
   "source": [
    "## Build an agent\n",
    "\n",
    "This section builds an agent to solve the environment with DDPG.\n",
    "\n",
    "### DDPG\n",
    "You need to define an Actor model and Critic model for DDPG. Actor model is responsible for producing an action from a given state. Critic model is responsible for estimating Action-State value which is used as a target to learn Actor as well as Critic itself."
   ]
  },
  {
   "cell_type": "code",
   "execution_count": 4,
   "metadata": {},
   "outputs": [],
   "source": [
    "def hidden_init(layer):\n",
    "    fan_in = layer.weight.data.size()[0]\n",
    "    lim = 1. / np.sqrt(fan_in)\n",
    "    return (-lim, lim)\n",
    "\n",
    "class Actor(nn.Module):\n",
    "\n",
    "    def __init__(self, state_size, action_size, seed, num_hidden1=256, num_hidden2=128):\n",
    "        super(Actor, self).__init__()\n",
    "        \n",
    "        torch.manual_seed(seed)\n",
    "        self.fc1 = nn.Linear(state_size, num_hidden1)\n",
    "        self.fc2 = nn.Linear(num_hidden1, action_size)\n",
    "        self.reset_parameters()\n",
    "\n",
    "    def reset_parameters(self):\n",
    "        self.fc1.weight.data.uniform_(*hidden_init(self.fc1))\n",
    "        self.fc2.weight.data.uniform_(-3e-3, 3e-3)\n",
    "\n",
    "    def forward(self, state):\n",
    "        x = F.relu(self.fc1(state))\n",
    "        return torch.tanh(self.fc2(x))\n"
   ]
  },
  {
   "cell_type": "code",
   "execution_count": 5,
   "metadata": {},
   "outputs": [],
   "source": [
    "class Critic(nn.Module):\n",
    "\n",
    "    def __init__(self, state_size, action_size, seed, num_hidden1=256, num_hidden2=128):\n",
    "        super(Critic, self).__init__()\n",
    "\n",
    "        torch.manual_seed(seed)\n",
    "        self.fc1 = nn.Linear(state_size, num_hidden1)\n",
    "        self.fc2 = nn.Linear(num_hidden1 + action_size, num_hidden2)\n",
    "        self.fc3 = nn.Linear(num_hidden2, 1)\n",
    "        self.reset_parameters()\n",
    "\n",
    "    def reset_parameters(self):\n",
    "        self.fc1.weight.data.uniform_(*hidden_init(self.fc2))\n",
    "        self.fc2.weight.data.uniform_(-3e-3, 3e-3)\n",
    "\n",
    "    def forward(self, state, action):\n",
    "        xs = F.leaky_relu(self.fc1(state))\n",
    "        x = torch.cat((xs, action), dim=1)\n",
    "        x = F.leaky_relu(self.fc2(x))\n",
    "        return self.fc3(x) \n"
   ]
  },
  {
   "cell_type": "markdown",
   "metadata": {},
   "source": [
    "### Parameters\n",
    "Parameters for learnings are combined into a class called DDPGAgentParams which has default values as follows.\n",
    "\n",
    "\n",
    "|Parameter | Default Value |\n",
    "| :--- | --- |\n",
    "| Replay Buffer Size | 1e6 |\n",
    "| Mini Batch Size | 512 |\n",
    "| Actor Learning Rate | 1e-5 |\n",
    "| Critic Learning Rate | 1e-4 |\n",
    "| Gamma | 0.99 |\n",
    "| Tau for soft updating | 1e-3 |\n",
    "| Weight Decay for Critic | 0 |\n",
    "| Sigma of Noise | 0.2 |\n",
    "| Random Seed | 123 |\n"
   ]
  },
  {
   "cell_type": "code",
   "execution_count": 6,
   "metadata": {},
   "outputs": [],
   "source": [
    "class DDPGAgentParams():\n",
    "    def __init__(\n",
    "        self, \n",
    "        buffer_size=int(1e6), \n",
    "        batch_size=512, \n",
    "        actor_lr = 1e-5, \n",
    "        critic_lr = 1e-4, \n",
    "        gamma = .99, \n",
    "        tau = 1e-3,\n",
    "        critic_weight_decay=0,\n",
    "        noise_sigma=0.2,\n",
    "        seed=123):\n",
    "        \n",
    "        self.buffer_size = buffer_size\n",
    "        self.batch_size = batch_size\n",
    "        self.actor_lr = actor_lr\n",
    "        self.critic_lr = critic_lr\n",
    "        self.gamma = gamma\n",
    "        self.tau = tau\n",
    "        self.critic_weight_decay = critic_weight_decay\n",
    "        self.noise_sigma = noise_sigma\n",
    "        self.seed = seed\n"
   ]
  },
  {
   "cell_type": "code",
   "execution_count": 7,
   "metadata": {},
   "outputs": [],
   "source": [
    "class DDPGAgent():\n",
    "    def __init__(self, state_size, action_size, params, device=\"cpu\"):\n",
    "        self.params = params\n",
    "        self.device = device\n",
    "        self.seed = random.seed(params.seed)\n",
    "        \n",
    "        self.actor_local = Actor(state_size, action_size, params.seed).to(device)\n",
    "        self.actor_target = Actor(state_size, action_size, params.seed).to(device)\n",
    "        self.actor_optimizer = optim.Adam(self.actor_local.parameters(), lr=params.actor_lr)\n",
    "\n",
    "        self.critic_local = Critic(state_size, action_size, params.seed).to(device)\n",
    "        self.critic_target = Critic(state_size, action_size, params.seed).to(device)\n",
    "        self.critic_loss = nn.MSELoss()\n",
    "        self.critic_optimizer = optim.Adam(\n",
    "            self.critic_local.parameters(), \n",
    "            lr=params.critic_lr, \n",
    "            weight_decay=params.critic_weight_decay)\n",
    "        \n",
    "        self.memory = ReplayBuffer(params.buffer_size, params.batch_size, params.seed)\n",
    "        self.n_step = 0\n",
    "\n",
    "    \n",
    "    def step(self, state, action, reward, next_state, done):\n",
    "        self.memory.add(state, action, reward, next_state, done)\n",
    "\n",
    "        self.n_step += 1\n",
    "        if len(self.memory) > self.params.batch_size and self.n_step % 20 == 0:\n",
    "            for _ in range(10):\n",
    "                experiences = self.memory.sample()\n",
    "                self.learn(experiences)\n",
    "            \n",
    "\n",
    "    def to_float_tensor(self, ndarray):\n",
    "        return torch.from_numpy(ndarray).float().to(self.device)\n",
    "    \n",
    "    def to_numpy(self, tensor):\n",
    "        return tensor.detach().cpu().numpy()\n",
    "    \n",
    "    def act(self, state, add_noise=True):\n",
    "        state_tensor = self.to_float_tensor(state)\n",
    "        self.actor_local.eval()\n",
    "        with torch.no_grad():\n",
    "            action = self.to_numpy(self.actor_local(state_tensor))\n",
    "        \n",
    "        self.actor_local.train()\n",
    "        \n",
    "        if add_noise:\n",
    "            action += np.random.normal(scale=self.params.noise_sigma)\n",
    "\n",
    "        return np.clip(action, -1, 1)\n",
    "\n",
    "    def reset(self):\n",
    "        # We don't need to reset the noise as we simply use normal distribution.\n",
    "        pass\n",
    "      \n",
    "    \n",
    "    def learn(self, experiences):\n",
    "        states_tensor, actions_tensor, rewards_tensor, next_states_tensor, dones_tensor = experiences\n",
    "        gamma = self.params.gamma\n",
    "        \n",
    "        # Q Target (with target network)\n",
    "        actions_next_tensor = self.actor_target(next_states_tensor)\n",
    "        Q_targets_next = self.critic_target(next_states_tensor, actions_next_tensor)\n",
    "        Q_targets = rewards_tensor + (gamma * Q_targets_next * (1 - dones_tensor))\n",
    "\n",
    "        # Q Expected (with local network)\n",
    "        Q_expected = self.critic_local(states_tensor, actions_tensor)\n",
    "        critic_loss = self.critic_loss(Q_expected, Q_targets)\n",
    "        \n",
    "        # Optimize Critic\n",
    "        self.critic_optimizer.zero_grad()\n",
    "        critic_loss.backward()\n",
    "        torch.nn.utils.clip_grad_norm_(self.critic_local.parameters(), 1)\n",
    "        self.critic_optimizer.step()\n",
    "\n",
    "        # Actor loss\n",
    "        actions_tensor = self.actor_local(states_tensor)\n",
    "        actor_loss = -self.critic_local(states_tensor, actions_tensor).mean()\n",
    "\n",
    "        # Optimize Actor\n",
    "        self.actor_optimizer.zero_grad()\n",
    "        actor_loss.backward()\n",
    "        self.actor_optimizer.step()\n",
    "\n",
    "        # Soft update\n",
    "        self.soft_update(self.critic_local, self.critic_target, self.params.tau)\n",
    "        self.soft_update(self.actor_local, self.actor_target, self.params.tau)             \n",
    "            \n",
    "    def soft_update(self, local_model, target_model, tau):\n",
    "        for target_param, local_param in zip(target_model.parameters(), local_model.parameters()):\n",
    "            target_param.data.copy_(tau*local_param.data + (1.0-tau)*target_param.data)"
   ]
  },
  {
   "cell_type": "code",
   "execution_count": 8,
   "metadata": {},
   "outputs": [],
   "source": [
    "class ReplayBuffer:\n",
    "    \"\"\"Fixed-size buffer to store experience tuples.\"\"\"\n",
    "\n",
    "    def __init__(self, buffer_size, batch_size, seed):\n",
    "        self.memory = deque(maxlen=buffer_size)\n",
    "        self.batch_size = batch_size\n",
    "        self.experience = namedtuple(\"Experience\", \"state, action, reward, next_state, done\")\n",
    "        \n",
    "        random.seed(seed)\n",
    "\n",
    "    def add(self, state, action, reward, next_state, done):\n",
    "        e =self.experience(state, action, reward, next_state, done)\n",
    "        self.memory.append(e)\n",
    "        \n",
    "    def sample(self):\n",
    "        n = min(self.batch_size, len(self.memory))\n",
    "        experiences = random.sample(self.memory, k=n)\n",
    "        \n",
    "        states = torch.from_numpy(np.array([e.state for e in experiences])).float().to(device)\n",
    "        actions = torch.from_numpy(np.vstack([e.action for e in experiences])).float().to(device)\n",
    "        rewards = torch.from_numpy(np.vstack([e.reward for e in experiences])).float().to(device)\n",
    "        next_states = torch.from_numpy(np.vstack([e.next_state for e in experiences])).float().to(device)\n",
    "        dones = torch.from_numpy(np.vstack([e.done for e in experiences])).float().to(device)\n",
    "        \n",
    "        return states, actions, rewards, next_states, dones\n",
    "\n",
    "    def __len__(self):\n",
    "        return len(self.memory)"
   ]
  },
  {
   "cell_type": "markdown",
   "metadata": {},
   "source": [
    "## Train function\n",
    "\n",
    "This is a train function to learn from the environment."
   ]
  },
  {
   "cell_type": "code",
   "execution_count": 15,
   "metadata": {
    "scrolled": true
   },
   "outputs": [],
   "source": [
    "\n",
    "def train(episode=1000, max_t=1000):\n",
    "    scores = []\n",
    "    # Deque containing last 100 scores\n",
    "    scores_deque = deque(maxlen=100)\n",
    "\n",
    "    for i in range(1, episode + 1):\n",
    "        env_info = env.reset(train_mode=True)[brain_name]\n",
    "        state = env_info.vector_observations[0]\n",
    "        agent.reset()\n",
    "        score = 0\n",
    "        for _ in range(max_t):\n",
    "            action = agent.act(state)\n",
    "            env_info = env.step(action)[brain_name]\n",
    "            next_state = env_info.vector_observations[0]\n",
    "            reward = env_info.rewards[0]\n",
    "            done = env_info.local_done[0]\n",
    "\n",
    "            agent.step(state, action, reward, next_state, done)\n",
    "            state = next_state\n",
    "            score += reward\n",
    "            if done:\n",
    "                break \n",
    "\n",
    "        scores_deque.append(score)\n",
    "        scores.append(score)\n",
    "        print('\\rEpisode {}\\tAverage Score: {:.2f}'.format(i, np.mean(scores_deque)), end=\"\")\n",
    "        torch.save(agent.actor_local.state_dict(), 'checkpoint_actor.pth')\n",
    "        torch.save(agent.critic_local.state_dict(), 'checkpoint_critic.pth')\n",
    "        if i % 100 == 0:\n",
    "            print('\\rEpisode {}\\tAverage Score: {:.2f}'.format(i, np.mean(scores_deque)))\n",
    "    return scores\n"
   ]
  },
  {
   "cell_type": "markdown",
   "metadata": {},
   "source": [
    "## Run the Agent\n",
    "\n",
    "Let's run then agent and learn from the environment. The train function executes 1000 episodes. The environment is considered as solved when the agent get an average score of +30 over 100 consecutive episodes. In each episode, it execute 1000 steps."
   ]
  },
  {
   "cell_type": "code",
   "execution_count": 10,
   "metadata": {},
   "outputs": [
    {
     "name": "stdout",
     "output_type": "stream",
     "text": [
      "Episode 100\tAverage Score: 2.30\n",
      "Episode 200\tAverage Score: 10.43\n",
      "Episode 300\tAverage Score: 16.17\n",
      "Episode 400\tAverage Score: 20.75\n",
      "Episode 500\tAverage Score: 23.25\n",
      "Episode 600\tAverage Score: 27.01\n",
      "Episode 700\tAverage Score: 31.07\n",
      "Episode 800\tAverage Score: 30.39\n",
      "Episode 900\tAverage Score: 31.56\n",
      "Episode 1000\tAverage Score: 31.57\n"
     ]
    }
   ],
   "source": [
    "params = DDPGAgentParams()\n",
    "agent = DDPGAgent(state_size, action_size, params, device=device)\n",
    "\n",
    "scores = []\n",
    "scores = train()\n"
   ]
  },
  {
   "cell_type": "code",
   "execution_count": 11,
   "metadata": {},
   "outputs": [
    {
     "data": {
      "image/png": "[encoded data removed]",
      "text/plain": [
       "<Figure size 432x288 with 1 Axes>"
      ]
     },
     "metadata": {
      "needs_background": "light"
     },
     "output_type": "display_data"
    }
   ],
   "source": [
    "# Plot average scores\n",
    "fig = plt.figure()\n",
    "ax = fig.add_subplot(111)\n",
    "plt.plot(np.arange(1, len(scores)+1), scores)\n",
    "plt.ylabel('Score')\n",
    "plt.xlabel('Episode #')\n",
    "plt.show()"
   ]
  },
  {
   "cell_type": "markdown",
   "metadata": {},
   "source": [
    "### Observe the trained agent\n",
    "\n",
    "You can see how the trained agent works in the environment by running `show` function."
   ]
  },
  {
   "cell_type": "code",
   "execution_count": 16,
   "metadata": {},
   "outputs": [],
   "source": [
    "def show(max_t=1000):\n",
    "    env_info = env.reset(train_mode=False)[brain_name]\n",
    "    state = env_info.vector_observations[0]\n",
    "    agent.reset()\n",
    "\n",
    "    score = 0\n",
    "    for i in range(1, max_t+1):\n",
    "        action = agent.act(state, add_noise=False)\n",
    "        env_info = env.step(action)[brain_name]\n",
    "        next_state = env_info.vector_observations[0]\n",
    "        reward = env_info.rewards[0]\n",
    "        done = env_info.local_done[0]\n",
    "\n",
    "        state = next_state\n",
    "        score += reward\n",
    "        print('\\rStep: {}, Score: {:.2f}'.format(i, score), end=\"\")\n",
    "        _\n",
    "        if done:\n",
    "            break \n",
    "\n",
    "    print('\\rStep: {}, Score: {:.2f}'.format(i, score))\n",
    "\n"
   ]
  },
  {
   "cell_type": "markdown",
   "metadata": {},
   "source": [
    "## Best agent\n",
    "\n",
    "Here is the best agent trained so far. Load and run the best agent how it does."
   ]
  },
  {
   "cell_type": "code",
   "execution_count": 19,
   "metadata": {},
   "outputs": [
    {
     "name": "stdout",
     "output_type": "stream",
     "text": [
      "Step: 1000, Score: 39.58\n"
     ]
    }
   ],
   "source": [
    "params = DDPGAgentParams()\n",
    "agent = DDPGAgent(state_size, action_size, params, device=device)\n",
    "\n",
    "agent.actor_local.load_state_dict(torch.load('checkpoint_actor_best.pth'))\n",
    "agent.critic_local.load_state_dict(torch.load('checkpoint_critic_best.pth'))\n",
    "\n",
    "show(max_t=1000)"
   ]
  }
 ],
 "metadata": {
  "kernelspec": {
   "display_name": "Python 3",
   "language": "python",
   "name": "python3"
  },
  "language_info": {
   "codemirror_mode": {
    "name": "ipython",
    "version": 3
   },
   "file_extension": ".py",
   "mimetype": "text/x-python",
   "name": "python",
   "nbconvert_exporter": "python",
   "pygments_lexer": "ipython3",
   "version": "3.8.10"
  }
 },
 "nbformat": 4,
 "nbformat_minor": 2
}
